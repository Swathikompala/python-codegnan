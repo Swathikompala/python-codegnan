{
 "cells": [
  {
   "cell_type": "code",
   "execution_count": 1,
   "id": "67b790be-bcdf-4933-9a88-d54fa81b0a69",
   "metadata": {},
   "outputs": [
    {
     "name": "stdout",
     "output_type": "stream",
     "text": [
      "This is from function call: 30\n"
     ]
    }
   ],
   "source": [
    "#2.Without parameters and with return\n",
    "def sum_of_two_numbers():\n",
    "    x = 10\n",
    "    y = 20\n",
    "    c = x + y\n",
    "    return c\n",
    "#function call\n",
    "res = sum_of_two_numbers()\n",
    "print(\"This is from function call:\", res)"
   ]
  },
  {
   "cell_type": "code",
   "execution_count": 4,
   "id": "7b147d69-a14b-4eaf-a5a5-2ecbade49b2b",
   "metadata": {},
   "outputs": [
    {
     "name": "stdout",
     "output_type": "stream",
     "text": [
      "This is from function call: 10\n"
     ]
    }
   ],
   "source": [
    "def sub_of_two_numbers():\n",
    "    x = 30\n",
    "    y = 20\n",
    "    c = x - y\n",
    "    return c\n",
    "#function call\n",
    "res = sub_of_two_numbers()\n",
    "print(\"This is from function call:\", res)"
   ]
  },
  {
   "cell_type": "code",
   "execution_count": 8,
   "id": "60b0eeb3-bc3a-49f0-8879-54844b3cb902",
   "metadata": {},
   "outputs": [
    {
     "name": "stdout",
     "output_type": "stream",
     "text": [
      "This is from function defination: 30\n",
      "This is from function call: None\n"
     ]
    }
   ],
   "source": [
    "#3.With parameters and wihtout return \n",
    "def sum_of_two_numbers(num1, num2):\n",
    "    c = num1 + num2\n",
    "    print(\"This is from function defination:\", c)\n",
    "    return #function termination point \n",
    "#function call\n",
    "res = sum_of_two_numbers(10,20)\n",
    "print(\"This is from function call:\", res)"
   ]
  },
  {
   "cell_type": "code",
   "execution_count": 12,
   "id": "d89dc51e-7067-4f60-97a0-99a997a603d5",
   "metadata": {},
   "outputs": [
    {
     "name": "stdout",
     "output_type": "stream",
     "text": [
      "This is from function defination: 30\n",
      "This is from function call: 30\n"
     ]
    }
   ],
   "source": [
    "#4.With parameters and with return \n",
    "def sum_of_two_numbers(num1, num2):\n",
    "    c = num1 + num2\n",
    "    print(\"This is from function defination:\", c)\n",
    "    return c #function termination point \n",
    "#function call\n",
    "res = sum_of_two_numbers(20,10)\n",
    "print(\"This is from function call:\", res)"
   ]
  },
  {
   "cell_type": "code",
   "execution_count": 13,
   "id": "dc778214-c1c3-42ee-8027-136aade7c626",
   "metadata": {},
   "outputs": [
    {
     "name": "stdout",
     "output_type": "stream",
     "text": [
      "This is from function defination: 30\n",
      "This is from function call: 30\n"
     ]
    }
   ],
   "source": [
    "#4.With parameters and with return \n",
    "def sum_of_two_numbers(num1, num2):\n",
    "    c = num1 + num2\n",
    "    print(\"This is from function defination:\", c)\n",
    "    return c #function termination point \n",
    "#function call\n",
    "a = 10\n",
    "b = 20\n",
    "res = sum_of_two_numbers(20,10)\n",
    "print(\"This is from function call:\", res)"
   ]
  },
  {
   "cell_type": "code",
   "execution_count": 18,
   "id": "ba191aef-57ea-4cef-8b84-9c28e93cf32d",
   "metadata": {},
   "outputs": [
    {
     "name": "stdout",
     "output_type": "stream",
     "text": [
      "False\n"
     ]
    }
   ],
   "source": [
    "#4.With parameters and with return \n",
    "def even_or_odd_of_two_numbers(num):\n",
    "    if num % 2 == 0:\n",
    "        return True\n",
    "    else:\n",
    "        return False\n",
    "\n",
    "a = 11\n",
    "res = even_or_odd_of_two_numbers(a)\n",
    "print(res)\n",
    "        \n",
    "       \n",
    "    "
   ]
  },
  {
   "cell_type": "code",
   "execution_count": null,
   "id": "7991b42f-9302-40d2-9910-8366d6f6ec00",
   "metadata": {},
   "outputs": [],
   "source": []
  }
 ],
 "metadata": {
  "kernelspec": {
   "display_name": "Python 3 (ipykernel)",
   "language": "python",
   "name": "python3"
  },
  "language_info": {
   "codemirror_mode": {
    "name": "ipython",
    "version": 3
   },
   "file_extension": ".py",
   "mimetype": "text/x-python",
   "name": "python",
   "nbconvert_exporter": "python",
   "pygments_lexer": "ipython3",
   "version": "3.13.5"
  }
 },
 "nbformat": 4,
 "nbformat_minor": 5
}
