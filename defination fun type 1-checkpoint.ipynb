{
 "cells": [
  {
   "cell_type": "code",
   "execution_count": 6,
   "id": "fd3ab412-c592-4df8-a4a4-235950500955",
   "metadata": {},
   "outputs": [
    {
     "name": "stdout",
     "output_type": "stream",
     "text": [
      "This is form function defination: 30\n",
      "This is from function call: None\n"
     ]
    }
   ],
   "source": [
    "def sum_of_two_numbers():\n",
    "    x = 10\n",
    "    y = 20\n",
    "    c = x + y\n",
    "    print(\"This is form function defination:\", c)\n",
    "    return#This statement will never execute\n",
    "#function call\n",
    "res = sum_of_two_numbers()\n",
    "print(\"This is from function call:\", res)"
   ]
  }
 ],
 "metadata": {
  "kernelspec": {
   "display_name": "Python 3 (ipykernel)",
   "language": "python",
   "name": "python3"
  },
  "language_info": {
   "codemirror_mode": {
    "name": "ipython",
    "version": 3
   },
   "file_extension": ".py",
   "mimetype": "text/x-python",
   "name": "python",
   "nbconvert_exporter": "python",
   "pygments_lexer": "ipython3",
   "version": "3.13.5"
  }
 },
 "nbformat": 4,
 "nbformat_minor": 5
}
